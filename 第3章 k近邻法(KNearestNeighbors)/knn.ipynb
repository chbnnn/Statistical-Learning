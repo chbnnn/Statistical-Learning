{
 "cells": [
  {
   "cell_type": "code",
   "execution_count": 1,
   "metadata": {},
   "outputs": [],
   "source": [
    "import numpy as np\n",
    "import pandas as pd\n",
    "\n",
    "from collections import Counter\n",
    "\n",
    "from sklearn.datasets import load_iris\n",
    "from sklearn.model_selection import train_test_split\n",
    "\n",
    "import matplotlib.pyplot as plt\n",
    "%matplotlib inline"
   ]
  },
  {
   "cell_type": "code",
   "execution_count": 2,
   "metadata": {},
   "outputs": [],
   "source": [
    "# load data\n",
    "iris = load_iris()\n",
    "feature_names = [feature_name[:-5] for feature_name in iris.feature_names]\n",
    "\n",
    "df = pd.DataFrame(iris.data, columns=feature_names)\n",
    "df['label']  = iris.target"
   ]
  },
  {
   "cell_type": "code",
   "execution_count": 3,
   "metadata": {},
   "outputs": [
    {
     "data": {
      "text/html": [
       "<div>\n",
       "<style scoped>\n",
       "    .dataframe tbody tr th:only-of-type {\n",
       "        vertical-align: middle;\n",
       "    }\n",
       "\n",
       "    .dataframe tbody tr th {\n",
       "        vertical-align: top;\n",
       "    }\n",
       "\n",
       "    .dataframe thead th {\n",
       "        text-align: right;\n",
       "    }\n",
       "</style>\n",
       "<table border=\"1\" class=\"dataframe\">\n",
       "  <thead>\n",
       "    <tr style=\"text-align: right;\">\n",
       "      <th></th>\n",
       "      <th>sepal length</th>\n",
       "      <th>sepal width</th>\n",
       "      <th>petal length</th>\n",
       "      <th>petal width</th>\n",
       "      <th>label</th>\n",
       "    </tr>\n",
       "  </thead>\n",
       "  <tbody>\n",
       "    <tr>\n",
       "      <th>0</th>\n",
       "      <td>5.1</td>\n",
       "      <td>3.5</td>\n",
       "      <td>1.4</td>\n",
       "      <td>0.2</td>\n",
       "      <td>0</td>\n",
       "    </tr>\n",
       "    <tr>\n",
       "      <th>1</th>\n",
       "      <td>4.9</td>\n",
       "      <td>3.0</td>\n",
       "      <td>1.4</td>\n",
       "      <td>0.2</td>\n",
       "      <td>0</td>\n",
       "    </tr>\n",
       "    <tr>\n",
       "      <th>2</th>\n",
       "      <td>4.7</td>\n",
       "      <td>3.2</td>\n",
       "      <td>1.3</td>\n",
       "      <td>0.2</td>\n",
       "      <td>0</td>\n",
       "    </tr>\n",
       "    <tr>\n",
       "      <th>3</th>\n",
       "      <td>4.6</td>\n",
       "      <td>3.1</td>\n",
       "      <td>1.5</td>\n",
       "      <td>0.2</td>\n",
       "      <td>0</td>\n",
       "    </tr>\n",
       "    <tr>\n",
       "      <th>4</th>\n",
       "      <td>5.0</td>\n",
       "      <td>3.6</td>\n",
       "      <td>1.4</td>\n",
       "      <td>0.2</td>\n",
       "      <td>0</td>\n",
       "    </tr>\n",
       "    <tr>\n",
       "      <th>...</th>\n",
       "      <td>...</td>\n",
       "      <td>...</td>\n",
       "      <td>...</td>\n",
       "      <td>...</td>\n",
       "      <td>...</td>\n",
       "    </tr>\n",
       "    <tr>\n",
       "      <th>145</th>\n",
       "      <td>6.7</td>\n",
       "      <td>3.0</td>\n",
       "      <td>5.2</td>\n",
       "      <td>2.3</td>\n",
       "      <td>2</td>\n",
       "    </tr>\n",
       "    <tr>\n",
       "      <th>146</th>\n",
       "      <td>6.3</td>\n",
       "      <td>2.5</td>\n",
       "      <td>5.0</td>\n",
       "      <td>1.9</td>\n",
       "      <td>2</td>\n",
       "    </tr>\n",
       "    <tr>\n",
       "      <th>147</th>\n",
       "      <td>6.5</td>\n",
       "      <td>3.0</td>\n",
       "      <td>5.2</td>\n",
       "      <td>2.0</td>\n",
       "      <td>2</td>\n",
       "    </tr>\n",
       "    <tr>\n",
       "      <th>148</th>\n",
       "      <td>6.2</td>\n",
       "      <td>3.4</td>\n",
       "      <td>5.4</td>\n",
       "      <td>2.3</td>\n",
       "      <td>2</td>\n",
       "    </tr>\n",
       "    <tr>\n",
       "      <th>149</th>\n",
       "      <td>5.9</td>\n",
       "      <td>3.0</td>\n",
       "      <td>5.1</td>\n",
       "      <td>1.8</td>\n",
       "      <td>2</td>\n",
       "    </tr>\n",
       "  </tbody>\n",
       "</table>\n",
       "<p>150 rows × 5 columns</p>\n",
       "</div>"
      ],
      "text/plain": [
       "     sepal length  sepal width  petal length  petal width  label\n",
       "0             5.1          3.5           1.4          0.2      0\n",
       "1             4.9          3.0           1.4          0.2      0\n",
       "2             4.7          3.2           1.3          0.2      0\n",
       "3             4.6          3.1           1.5          0.2      0\n",
       "4             5.0          3.6           1.4          0.2      0\n",
       "..            ...          ...           ...          ...    ...\n",
       "145           6.7          3.0           5.2          2.3      2\n",
       "146           6.3          2.5           5.0          1.9      2\n",
       "147           6.5          3.0           5.2          2.0      2\n",
       "148           6.2          3.4           5.4          2.3      2\n",
       "149           5.9          3.0           5.1          1.8      2\n",
       "\n",
       "[150 rows x 5 columns]"
      ]
     },
     "execution_count": 3,
     "metadata": {},
     "output_type": "execute_result"
    }
   ],
   "source": [
    "df"
   ]
  },
  {
   "cell_type": "code",
   "execution_count": 4,
   "metadata": {},
   "outputs": [
    {
     "data": {
      "text/plain": [
       "<matplotlib.legend.Legend at 0x7fb4066955d0>"
      ]
     },
     "execution_count": 4,
     "metadata": {},
     "output_type": "execute_result"
    },
    {
     "data": {
      "image/png": "[encoded data removed]",
      "text/plain": [
       "<Figure size 432x288 with 1 Axes>"
      ]
     },
     "metadata": {
      "needs_background": "light"
     },
     "output_type": "display_data"
    }
   ],
   "source": [
    "plt.scatter(df[:50]['sepal length'], df[:50]['sepal width'], label='0')\n",
    "plt.scatter(df[50:100]['sepal length'], df[50:100]['sepal width'], label='1')\n",
    "plt.xlabel('sepal length')\n",
    "plt.ylabel('sepal width')\n",
    "plt.legend()"
   ]
  },
  {
   "cell_type": "code",
   "execution_count": 5,
   "metadata": {},
   "outputs": [],
   "source": [
    "data = np.array(df.iloc[:100, [0, 1, -1]])\n",
    "X, y = data[:, :-1], data[:, -1]\n",
    "x_train, x_test, y_train, y_test = train_test_split(X, y, test_size=0.2)"
   ]
  },
  {
   "cell_type": "code",
   "execution_count": 6,
   "metadata": {},
   "outputs": [],
   "source": [
    "class KNN:\n",
    "    def __init__(self, k=3, p=2):\n",
    "        self.k = k\n",
    "        self.p = p\n",
    "    \n",
    "    def fit(self, points, labels):\n",
    "        if not isinstance(points, np.ndarray): points = np.array(points)\n",
    "        if not isinstance(labels, np.ndarray): points = np.array(labels)\n",
    "        self.points = points\n",
    "        self.labels = labels\n",
    "        \n",
    "    def predict(self, x):\n",
    "        dist = ((self.points - x)**2).sum(axis=1) ** (1./self.p)\n",
    "        nn_idxs = np.argsort(dist)[:self.k]\n",
    "        nn_labels = self.labels[nn_idxs]\n",
    "        \n",
    "        label_count = Counter(nn_labels)\n",
    "        return int(sorted(label_count)[-1])\n",
    "    \n",
    "    def evaluate(self, x_test, y_test):\n",
    "        correct = 0\n",
    "        for x, y in zip(x_test, y_test):\n",
    "            label = self.predict(x)\n",
    "            if label == y:\n",
    "                correct += 1\n",
    "        return correct / len(x_test)"
   ]
  },
  {
   "cell_type": "code",
   "execution_count": 7,
   "metadata": {},
   "outputs": [],
   "source": [
    "clf = KNN()\n",
    "clf.fit(x_train, y_train)"
   ]
  },
  {
   "cell_type": "code",
   "execution_count": 8,
   "metadata": {},
   "outputs": [
    {
     "data": {
      "text/plain": [
       "1.0"
      ]
     },
     "execution_count": 8,
     "metadata": {},
     "output_type": "execute_result"
    }
   ],
   "source": [
    "clf.evaluate(x_test, y_test)"
   ]
  },
  {
   "cell_type": "code",
   "execution_count": 9,
   "metadata": {},
   "outputs": [
    {
     "data": {
      "text/plain": [
       "1"
      ]
     },
     "execution_count": 9,
     "metadata": {},
     "output_type": "execute_result"
    }
   ],
   "source": [
    "test_point = [5., 2.8]\n",
    "clf.predict(test_point)"
   ]
  },
  {
   "cell_type": "code",
   "execution_count": 10,
   "metadata": {},
   "outputs": [
    {
     "data": {
      "text/plain": [
       "<matplotlib.legend.Legend at 0x7fb407031150>"
      ]
     },
     "execution_count": 10,
     "metadata": {},
     "output_type": "execute_result"
    },
    {
     "data": {
      "image/png": "[encoded data removed]",
      "text/plain": [
       "<Figure size 432x288 with 1 Axes>"
      ]
     },
     "metadata": {
      "needs_background": "light"
     },
     "output_type": "display_data"
    }
   ],
   "source": [
    "plt.scatter(df[:50]['sepal length'], df[:50]['sepal width'], label='0')\n",
    "plt.scatter(df[50:100]['sepal length'], df[50:100]['sepal width'], label='1')\n",
    "plt.plot(test_point[0], test_point[1], 'bo', label='test_point')\n",
    "plt.xlabel('sepal length')\n",
    "plt.ylabel('sepal width')\n",
    "plt.legend()"
   ]
  },
  {
   "cell_type": "markdown",
   "metadata": {},
   "source": [
    " "
   ]
  },
  {
   "cell_type": "markdown",
   "metadata": {},
   "source": [
    " "
   ]
  },
  {
   "cell_type": "markdown",
   "metadata": {},
   "source": [
    " "
   ]
  },
  {
   "cell_type": "markdown",
   "metadata": {},
   "source": [
    " "
   ]
  },
  {
   "cell_type": "markdown",
   "metadata": {},
   "source": [
    "\n",
    "\n",
    "\n",
    "\n",
    "\n"
   ]
  },
  {
   "cell_type": "markdown",
   "metadata": {},
   "source": [
    "## **kd-tree**"
   ]
  },
  {
   "cell_type": "code",
   "execution_count": 11,
   "metadata": {},
   "outputs": [],
   "source": [
    "class Node:\n",
    "    def __init__(self):\n",
    "        self.point = None\n",
    "        self.split = None\n",
    "        self.parent = None\n",
    "        self.left = None\n",
    "        self.right = None"
   ]
  },
  {
   "cell_type": "code",
   "execution_count": 12,
   "metadata": {},
   "outputs": [],
   "source": [
    "class KdTree:\n",
    "    def __init__(self):\n",
    "        self.root = Node()\n",
    "        self.nearest = None\n",
    "        self.min_dist = float('inf')\n",
    "    \n",
    "    def _get_variance(self, X, d):  # DX = E(X²) - (EX)²\n",
    "        if not isinstance(X, np.ndarray): X = np.array(X)\n",
    "        n = len(X)\n",
    "        EX_sqr = (X.sum(axis=0)[d] / n) ** 2\n",
    "        E_sqrX = (X**2).sum(axis=0)[d] / n\n",
    "        \n",
    "        return E_sqrX - EX_sqr\n",
    "    \n",
    "    def _get_split(self, X):  # 在剩下的数据集X里面找方差最大的维度作为分割轴\n",
    "        k = len(X[0])\n",
    "        variances =  map(lambda d: (d, self._get_variance(X, d)), range(k))\n",
    "        return max(variances, key=lambda x: x[1])[0]\n",
    "        \n",
    "    def _get_median(self, X, split):\n",
    "        n = len(X)\n",
    "        k = n // 2\n",
    "        sorted_idxs = np.argsort(X, axis=0)[:, split]\n",
    "        left_idxs, median_idx, right_idxs = sorted_idxs[:k], sorted_idxs[k], sorted_idxs[k+1:]\n",
    "        return median_idx, (left_idxs, right_idxs)\n",
    "        \n",
    "    def build_tree(self, X, y=None):\n",
    "        nd = self.root\n",
    "        self._build_tree(nd, X)\n",
    "    \n",
    "    def _build_tree(self, nd, X, y=None):\n",
    "        if X is None or len(X) == 0: return\n",
    "        \n",
    "        split = self._get_split(X)\n",
    "        median_idx, (left_idxs, right_idxs) = self._get_median(X, split)\n",
    "        nd.point = X[median_idx]\n",
    "        nd.split = split\n",
    "        \n",
    "        if len(left_idxs) > 0:\n",
    "            nd.left = Node()\n",
    "            nd.left.parent = nd\n",
    "            self._build_tree(nd.left, X[left_idxs])\n",
    "        \n",
    "        if len(right_idxs) > 0:\n",
    "            nd.right = Node()\n",
    "            nd.right.parent = nd\n",
    "            self._build_tree(nd.right, X[right_idxs])\n",
    "    \n",
    "    def preorder(self, nd=None):\n",
    "        if nd is None: nd = self.root\n",
    "        print(nd.point)\n",
    "        if nd.left:\n",
    "            self.preorder(nd.left)\n",
    "        if nd.right:\n",
    "            print('RRRR')\n",
    "            self.preorder(nd.right)\n",
    "    \n",
    "    def _dist(self, x1, x2, p=2):\n",
    "        return ((x1 - x2) ** p).sum() ** (1./p)\n",
    "    \n",
    "    def _get_brother(self, nd):\n",
    "        if nd.parent is None: \n",
    "            return None\n",
    "        if nd is nd.parent.left:\n",
    "            return nd.parent.right\n",
    "        else:\n",
    "            return nd.parent.left\n",
    "    \n",
    "    def search(self, x, nd=None):\n",
    "        if nd is None:\n",
    "            nd = self.root\n",
    "        while nd.left or nd.right:\n",
    "            if not nd.left:\n",
    "                nd = nd.right\n",
    "            elif not nd.right:\n",
    "                nd = nd.left\n",
    "            elif nd.point[nd.split] > x[nd.split]:\n",
    "                nd = nd.left\n",
    "            else:\n",
    "                nd = nd.right\n",
    "        return nd\n",
    "    \n",
    "    def _intersect(self, nd, x):\n",
    "        if nd.parent is None: return False\n",
    "        nd = nd.parent\n",
    "        return abs(nd.point[nd.split] - x[nd.split]) <= self.min_dist\n",
    "        \n",
    "    def find_nearest(self, x):\n",
    "        self.nearest = self.search(x)\n",
    "        self.min_dist = self._dist(self.nearest.point, x)\n",
    "        self._find_nearest(self.nearest, x)\n",
    "        return self.nearest.point, self.min_dist\n",
    "    \n",
    "    def _find_nearest(self, nd, x):\n",
    "        dis = self._dist(nd.point, x)\n",
    "        print(nd.point, dis, self.min_dist)  # search path\n",
    "        if dis < self.min_dist:\n",
    "            self.min_dist = dis\n",
    "            self.nearest = nd\n",
    "            \n",
    "        if self._intersect(nd, x):\n",
    "            brother = self._get_brother(nd)\n",
    "            _nd = self.search(x, brother)\n",
    "            _dis = self._dist(_nd.point, x)\n",
    "            print(_nd.point, _dis, self.min_dist)  # search path\n",
    "            if _dis < self.min_dist:\n",
    "                self.min_dist = _dis\n",
    "                self.nearest = _nd   \n",
    "        \n",
    "        if nd.parent:\n",
    "            self._find_nearest(nd.parent, x)"
   ]
  },
  {
   "cell_type": "code",
   "execution_count": 13,
   "metadata": {},
   "outputs": [],
   "source": [
    "data = [(0, 25, 73), (1, 91, 85), (1, 47, 12), (2, 90, 20),\n",
    "      (2, 66, 79), (2, 46, 27), (4, 48, 99), (5, 73, 64), (7, 42, 70),\n",
    "      (7, 34, 60), (8, 86, 80), (10, 27, 14), (15, 64, 39), (17, 74, 24),\n",
    "      (18, 58, 12), (18, 58, 5), (19, 14, 2), (20, 88, 11), (20, 28, 58),\n",
    "      (20, 79, 48), (21, 32, 8), (21, 46, 41), (22, 6, 4), (22, 42, 68),\n",
    "      (22, 62, 42), (24, 70, 96), (27, 77, 57), (27, 47, 39), (28, 61, 19),\n",
    "      (30, 28, 22), (34, 13, 85), (34, 39, 96), (34, 90, 32), (39, 7, 45),\n",
    "      (40, 61, 53), (40, 69, 50), (41, 45, 16), (41, 15, 44), (42, 40, 19),\n",
    "      (45, 6, 68), (46, 79, 91), (47, 91, 86), (47, 50, 24), (48, 57, 64),\n",
    "      (49, 21, 72), (49, 87, 21), (49, 41, 62), (54, 94, 32), (56, 14, 54),\n",
    "      (56, 93, 2), (58, 34, 44), (58, 27, 42), (59, 62, 80), (60, 69, 69),\n",
    "      (61, 67, 35), (62, 31, 50), (63, 9, 93), (63, 46, 95), (64, 31, 2),\n",
    "      (64, 2, 36), (65, 23, 96), (66, 94, 69), (67, 98, 10), (67, 40, 88),\n",
    "      (68, 4, 15), (68, 1, 6), (68, 88, 72), (70, 24, 53), (70, 31, 87),\n",
    "      (71, 95, 26), (74, 80, 34), (75, 59, 99), (75, 15, 25), (76, 90, 99),\n",
    "      (77, 75, 19), (77, 68, 26), (80, 19, 98), (82, 90, 50), (82, 87, 37),\n",
    "      (84, 88, 59), (85, 76, 61), (85, 89, 20), (85, 64, 64), (86, 55, 92),\n",
    "      (86, 15, 69), (87, 48, 46), (87, 67, 47), (89, 81, 65), (89, 87, 39),\n",
    "      (89, 87, 3), (91, 65, 87), (94, 37, 74), (94, 20, 92), (95, 95, 49),\n",
    "      (96, 15, 80), (96, 27, 39), (97, 87, 32), (97, 43, 7), (98, 78, 10),\n",
    "      (99, 64, 55)]\n",
    "kd = KdTree()\n",
    "kd.build_tree(np.array(data))\n",
    "# kd.layerorder()"
   ]
  },
  {
   "cell_type": "code",
   "execution_count": 14,
   "metadata": {},
   "outputs": [
    {
     "name": "stdout",
     "output_type": "stream",
     "text": [
      "[64 31  2] 35.52463933666322 35.52463933666322\n",
      "[64 31  2] 35.52463933666322 35.52463933666322\n",
      "[97 43  7] 39.57271787481876 35.52463933666322\n",
      "[75 15 25] 40.22437072223753 35.52463933666322\n",
      "[58 27 42] 31.016124838541646 35.52463933666322\n",
      "[96 27 39] 41.58124577258358 31.016124838541646\n",
      "[94 37 74] 55.65968020030299 31.016124838541646\n",
      "[61 67 35] 15.165750888103101 31.016124838541646\n",
      "[85 64 64] 41.060930335295616 15.165750888103101\n",
      "[28 61 19] 39.91240408695021 15.165750888103101\n",
      "[58 34 44] 26.248809496813376 15.165750888103101\n",
      "[61 67 35] 15.165750888103101\n"
     ]
    }
   ],
   "source": [
    "nn, nn_dist = kd.find_nearest(np.array((66, 54, 29)))\n",
    "print(nn, nn_dist)"
   ]
  },
  {
   "cell_type": "code",
   "execution_count": 15,
   "metadata": {},
   "outputs": [
    {
     "data": {
      "text/plain": [
       "15.165750888103101"
      ]
     },
     "execution_count": 15,
     "metadata": {},
     "output_type": "execute_result"
    }
   ],
   "source": [
    "kd._dist(np.array([66,54,29]), np.array([61,67,35]))"
   ]
  },
  {
   "cell_type": "code",
   "execution_count": 16,
   "metadata": {},
   "outputs": [
    {
     "name": "stdout",
     "output_type": "stream",
     "text": [
      "(61, 67, 35) 15.165750888103101\n"
     ]
    }
   ],
   "source": [
    "# enumerate over all points\n",
    "min_dist = float('inf')\n",
    "nn = None\n",
    "for p in data:\n",
    "    dist = kd._dist(np.array(p), np.array([66, 54, 29]))\n",
    "    if dist < min_dist:\n",
    "        min_dist = dist\n",
    "        nn = p\n",
    "print(nn, min_dist)"
   ]
  },
  {
   "cell_type": "code",
   "execution_count": null,
   "metadata": {},
   "outputs": [],
   "source": []
  }
 ],
 "metadata": {
  "kernelspec": {
   "display_name": "Python 3",
   "language": "python",
   "name": "python3"
  },
  "language_info": {
   "codemirror_mode": {
    "name": "ipython",
    "version": 3
   },
   "file_extension": ".py",
   "mimetype": "text/x-python",
   "name": "python",
   "nbconvert_exporter": "python",
   "pygments_lexer": "ipython3",
   "version": "3.7.6"
  }
 },
 "nbformat": 4,
 "nbformat_minor": 4
}
